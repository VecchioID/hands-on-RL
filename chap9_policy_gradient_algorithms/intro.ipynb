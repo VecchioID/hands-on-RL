{
 "cells": [
  {
   "cell_type": "markdown",
   "source": [
    "# 策略梯度算法\n",
    "## 9.1\n",
    "Q-learning，DQN及DQN改进算法都是基于价值的方法，其中Q-learning是处理有限状态的算法，而DQN可以用来解决连续状态的问题。\n",
    "\n",
    "在RL中，除了基于值函数的方法，还有一支非常经典的方法，那就是基于策略的方法。\n",
    "\n",
    "对比二者，基于值函数的方法主要学习值函数，然后根据值函数导出一个策略，学习过程中并不存在一个显式的策略；而基于策略的方法则是直接显式的学习一个目标策略。\n",
    "\n",
    "策略梯度是基于策略的方法的基础。"
   ],
   "metadata": {
    "collapsed": false,
    "pycharm": {
     "name": "#%% md\n"
    }
   }
  },
  {
   "cell_type": "markdown",
   "source": [
    "## 9.2 策略梯度\n",
    "基于策略的方法首先需要把 策略 参数化。\n",
    "假设目标策略"
   ],
   "metadata": {
    "collapsed": false,
    "pycharm": {
     "name": "#%% md\n"
    }
   }
  }
 ],
 "metadata": {
  "kernelspec": {
   "display_name": "Python 3",
   "language": "python",
   "name": "python3"
  },
  "language_info": {
   "codemirror_mode": {
    "name": "ipython",
    "version": 2
   },
   "file_extension": ".py",
   "mimetype": "text/x-python",
   "name": "python",
   "nbconvert_exporter": "python",
   "pygments_lexer": "ipython2",
   "version": "2.7.6"
  }
 },
 "nbformat": 4,
 "nbformat_minor": 0
}