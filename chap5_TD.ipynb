{
 "cells": [
  {
   "cell_type": "markdown",
   "source": [
    "动态规划算法要求马尔可夫决策过程是已知的，即要求与agent交互的环境是完全已知的。在现实中是不可能的，也就是说无法直接进行动态规划。\n",
    "\n",
    "agent只能与env进行交互，通过采样到的数据进行进行学习，这种学习方法统称为无模型强化学习。\n",
    "\n",
    "## 时序差分方法\n",
    "\n",
    "时序差分是一种用来估计一个策略的价值函数的方法，它结合了蒙特卡洛和动态规划算法的私信奥难过。时序差分方法和蒙特卡洛的相似之处在于可以从样本数据中学习，不需要事先知道环境；\n",
    "\n",
    "和动态规划相似之处在于根据贝尔曼方程的思想，利用后续状态的价值估计来更新当前状态的价值估计。\n",
    "\n",
    "回顾一下蒙特卡洛方法对戒指函数的增量更新方式：\n",
    "\n",
    "$$V(s_{t}) \\leftarrow V(s_{t}) + \\alpha\\left[G_{t}-V(s_{t})\\right]$$\n",
    "\n",
    "这里 $\\alpha$ 是替换的，表示对价值估计更新的步长，可以将 $\\alpha$ 取为一个常数，此时更新方式不再像蒙特卡洛方法那样严格的取期望。蒙特卡洛方法必须要等整个序列结束之后才能计算得到这一次的回报$G_{t}$，而时序差分方法只需要当前步结束即可进行计算。具体来说，时序差分方法用当前获得的奖励加上下一个状态的价值估计来作为在当前状态会获得的回报，即：\n",
    "$$V(s_{t}) \\leftarrow V(s_{t}) + \\alpha \\left[r_{t} + \\gamma V(s_{t+1})-V(s_{t})\\right]$$\n",
    "其中$R_{t} + \\gamma V(s_{t+1} -V(s_{t}))$通常被称为时序差分（temporal difference, TD）误差（error）,时序差分算法将其与步长的乘积作为价值状态的更新量。可以用$r_{t}+\\gamma V(s_{t+1})$代替$G_{t}$的原因是：\n",
    "$$V_{\\pi}(s) = \\mathbb{E}_{\\pi}\\left[G_{t}|S_{t}=s\\right]=\\mathbb{E}_{\\pi}\\left[\\sum \\nolimits_{k=0}^{\\infty}\\gamma^{k}R_{t+k}|S_{t}=\\mathbb{E}_{\\pi}\\left[R_{t} + \\gamma \\sum\\nolimits_{k=0}^{\\infty}\\gamma^{k}R_{t+k+1}|S_{t}=s\\right]=\\mathbb{E}_{\\pi}\\left[R_{t}+\\gamma V_{\\pi} (S_{t+1})|S_{t}=s\\right]\\right]$$"
   ],
   "metadata": {
    "collapsed": false,
    "pycharm": {
     "name": "#%% md\n"
    }
   }
  },
  {
   "cell_type": "markdown",
   "source": [
    "因此蒙卡卡洛方法将上式第一个等号作为更新的目标，而时序差分方法将上式最后一行作为更新目标。于是，用策略和环境进行交互的时候，每采样一步，我们就可以时序差分算法更新状态估计的值。"
   ],
   "metadata": {
    "collapsed": false,
    "pycharm": {
     "name": "#%% md\n"
    }
   }
  },
  {
   "cell_type": "code",
   "execution_count": null,
   "outputs": [],
   "source": [],
   "metadata": {
    "collapsed": false,
    "pycharm": {
     "name": "#%%\n"
    }
   }
  }
 ],
 "metadata": {
  "kernelspec": {
   "display_name": "Python 3",
   "language": "python",
   "name": "python3"
  },
  "language_info": {
   "codemirror_mode": {
    "name": "ipython",
    "version": 2
   },
   "file_extension": ".py",
   "mimetype": "text/x-python",
   "name": "python",
   "nbconvert_exporter": "python",
   "pygments_lexer": "ipython2",
   "version": "2.7.6"
  }
 },
 "nbformat": 4,
 "nbformat_minor": 0
}