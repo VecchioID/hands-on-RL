{
 "cells": [
  {
   "cell_type": "markdown",
   "source": [
    "# Actor-Critic算法\n",
    "特点： 既学习价值函数，又学习策略函数\n",
    "\n",
    "## 重要的知识点\n",
    "\n",
    "> 这部分的学习中一直无法区分AC, A2C, A3C 三者之间的关系，这里做一个总结\n",
    "> AC， Advantage Actor-Critic， 优势Actor-Critic\n",
    "> A2C， Synchronous Advantage Actor-Critic, 只是在Actor-Critic算法的基础上增加了并行计算的设计\n",
    "> A3C，Asynchronous Advantage Actor-Critic, 异步优势Actor-Critic， 是A2C的异步版本，计算效率更高"
   ],
   "metadata": {
    "collapsed": false,
    "pycharm": {
     "name": "#%% md\n"
    }
   }
  },
  {
   "cell_type": "code",
   "execution_count": null,
   "outputs": [],
   "source": [],
   "metadata": {
    "collapsed": false,
    "pycharm": {
     "name": "#%%\n"
    }
   }
  }
 ],
 "metadata": {
  "kernelspec": {
   "display_name": "Python 3",
   "language": "python",
   "name": "python3"
  },
  "language_info": {
   "codemirror_mode": {
    "name": "ipython",
    "version": 2
   },
   "file_extension": ".py",
   "mimetype": "text/x-python",
   "name": "python",
   "nbconvert_exporter": "python",
   "pygments_lexer": "ipython2",
   "version": "2.7.6"
  }
 },
 "nbformat": 4,
 "nbformat_minor": 0
}