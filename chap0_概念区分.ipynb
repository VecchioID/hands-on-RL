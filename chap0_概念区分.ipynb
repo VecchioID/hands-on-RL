{
 "cells": [
  {
   "cell_type": "markdown",
   "source": [
    "# 1 蒙特卡洛方法\n",
    "蒙特卡洛方法(Monte-Carlo Methods)也被称为统计模拟方法，是一种基于概率统计的数值计算方法。\n",
    "\n",
    "我们现在介绍如何用蒙特卡洛方法来估计一个策略在一个马尔可夫决策过程中的状态价值函数。\n",
    "\n",
    "回忆一下，一个状态的价值是它的期望回报，那么一个很直观的饿想法是用策略在MDP上采样很多序列，计算从这个状态出发的回报再求其期望就可以了。\n",
    "$$V^{\\pi}(s) = \\mathbb{E}_{\\pi}\\left[G_{t}|S_{t}=s\\right] \\approx \\frac{1}{N}\\sum\\nolimits_{i=1}^{N}G_{t}^{(i)}$$"
   ],
   "metadata": {
    "collapsed": false,
    "pycharm": {
     "name": "#%% md\n"
    }
   }
  },
  {
   "cell_type": "markdown",
   "source": [
    "在一个序列中，可能没有出现过这个状态，可能只出现过一次这个状态，也可能出现过很多次这个状态。我们介绍的蒙特卡洛价值估计方法会在该状态每一次出现时计算它的回报。还有一种选择是一条序列只计算一次回报，也就是这条序列第一次出现该状态的时候计算后面的累积奖励，而后面再出现这个状态时，该状态就被忽略了。"
   ],
   "metadata": {
    "collapsed": false,
    "pycharm": {
     "name": "#%% md\n"
    }
   }
  },
  {
   "cell_type": "markdown",
   "source": [
    "# 2 策略迭代算法\n",
    "\n",
    "## 2.1 策略评估\n",
    "$$V^{\\pi}(s) = \\sum \\nolimits_{a\\in A}\\pi(a|s)(r(s,a)+\\gamma\\sum\\nolimits_{s'\\in\\mathcal{S}}p(s'|s,a)V^{\\pi}(s'))$$\n",
    "### 2.1.1 策略提升\n",
    "\n",
    "### 2.1.2策略迭代算法\n",
    "\n",
    "## 2.2 价值迭代算法"
   ],
   "metadata": {
    "collapsed": false,
    "pycharm": {
     "name": "#%% md\n"
    }
   }
  },
  {
   "cell_type": "markdown",
   "source": [
    "# 3 状态价值函数\n",
    "用 $V^{\\pi}(s)$ 表示在MDP中基于策略 $\\pi$ 的状态价值函数， state-value function，定义为从状态 $s$ 出发遵循策略 $\\pi$ 能获得的期望回报，数学表达式为：\n",
    "$$V^{\\pi}(s) = \\mathbb{E}_{\\pi}\\left[G_{t}|S_{t}=s\\right]$$\n",
    "# 4 动作价值函数\n",
    "由于动作的存在，我们额外定义一个动作价值函数，action-value function。 我们用$Q^{\\pi}(s, a)$表示在MDP遵循策略$\\pi$时，对当前状态$s$执行动作$a$得到的期望回报：\n",
    "$$Q^{\\pi}(s,a) = \\mathbb{E}_{\\pi}\\left[G_{t}|S_{t}=s,A_{t}=a\\right]$$"
   ],
   "metadata": {
    "collapsed": false,
    "pycharm": {
     "name": "#%% md\n"
    }
   }
  },
  {
   "cell_type": "markdown",
   "source": [
    "- 贝尔曼期望方程和贝尔曼最优方程，这两个的区分在于期望方程是bellman方程直接加上求期望，而最优则是argmax操作。\n",
    "- 状态价值函数和动作价值函数的区别：某一个状态的价值可以用该状态下所有动作的价值表述；某一个动作的价值可以用该状态后续状态的价值表述。"
   ],
   "metadata": {
    "collapsed": false,
    "pycharm": {
     "name": "#%% md\n"
    }
   }
  },
  {
   "cell_type": "markdown",
   "source": [
    "# 5 强化学习进阶 （区分value-based和policy-based）\n",
    "Q-learning, DQN以及DQN改进算法都是基于价值（value-based）的算法，其中Q-learning是处理有限状态的算法，而DQN可以用来解决连续状态的问题。\n",
    "\n",
    "在强化学习中，除了基于值函数的方法，还有一支非常经典的算法，那就是基于策略（policy-based）的方法。\n",
    "\n",
    "对比二者，基于值函数的方法主要是学习值函数，然后根据值函数导出一个策略，学习过程中并不存在一个显式的策略；而基于策略的方法则是直接显式学习一个目标策略。策略梯度是基于策略的方法的基础。"
   ],
   "metadata": {
    "collapsed": false,
    "pycharm": {
     "name": "#%% md\n"
    }
   }
  },
  {
   "cell_type": "markdown",
   "source": [],
   "metadata": {
    "collapsed": false,
    "pycharm": {
     "name": "#%% md\n"
    }
   }
  },
  {
   "cell_type": "markdown",
   "source": [],
   "metadata": {
    "collapsed": false,
    "pycharm": {
     "name": "#%% md\n"
    }
   }
  }
 ],
 "metadata": {
  "kernelspec": {
   "display_name": "Python 3",
   "language": "python",
   "name": "python3"
  },
  "language_info": {
   "codemirror_mode": {
    "name": "ipython",
    "version": 2
   },
   "file_extension": ".py",
   "mimetype": "text/x-python",
   "name": "python",
   "nbconvert_exporter": "python",
   "pygments_lexer": "ipython2",
   "version": "2.7.6"
  }
 },
 "nbformat": 4,
 "nbformat_minor": 0
}